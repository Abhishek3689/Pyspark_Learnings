{
 "cells": [
  {
   "cell_type": "code",
   "execution_count": null,
   "metadata": {},
   "outputs": [],
   "source": [
    "import pyspark"
   ]
  },
  {
   "cell_type": "code",
   "execution_count": 1,
   "metadata": {},
   "outputs": [],
   "source": [
    "from pyspark.sql import SparkSession"
   ]
  },
  {
   "cell_type": "code",
   "execution_count": 2,
   "metadata": {},
   "outputs": [
    {
     "name": "stderr",
     "output_type": "stream",
     "text": [
      "Setting default log level to \"WARN\".\n",
      "To adjust logging level use sc.setLogLevel(newLevel). For SparkR, use setLogLevel(newLevel).\n",
      "23/11/09 23:20:42 WARN NativeCodeLoader: Unable to load native-hadoop library for your platform... using builtin-java classes where applicable\n"
     ]
    }
   ],
   "source": [
    "spark=SparkSession.builder.appName('filter').getOrCreate()"
   ]
  },
  {
   "cell_type": "code",
   "execution_count": 3,
   "metadata": {},
   "outputs": [
    {
     "data": {
      "text/html": [
       "\n",
       "            <div>\n",
       "                <p><b>SparkSession - in-memory</b></p>\n",
       "                \n",
       "        <div>\n",
       "            <p><b>SparkContext</b></p>\n",
       "\n",
       "            <p><a href=\"http://9c398751d4ab:4040\">Spark UI</a></p>\n",
       "\n",
       "            <dl>\n",
       "              <dt>Version</dt>\n",
       "                <dd><code>v3.2.1</code></dd>\n",
       "              <dt>Master</dt>\n",
       "                <dd><code>local[*]</code></dd>\n",
       "              <dt>AppName</dt>\n",
       "                <dd><code>filter</code></dd>\n",
       "            </dl>\n",
       "        </div>\n",
       "        \n",
       "            </div>\n",
       "        "
      ],
      "text/plain": [
       "<pyspark.sql.session.SparkSession at 0x7f34ae6f3640>"
      ]
     },
     "execution_count": 3,
     "metadata": {},
     "output_type": "execute_result"
    }
   ],
   "source": [
    "spark"
   ]
  },
  {
   "cell_type": "code",
   "execution_count": 4,
   "metadata": {},
   "outputs": [],
   "source": [
    "df_spark=spark.read.csv('data/test1.csv',inferSchema=True,header=True)"
   ]
  },
  {
   "cell_type": "code",
   "execution_count": 5,
   "metadata": {},
   "outputs": [
    {
     "name": "stdout",
     "output_type": "stream",
     "text": [
      "+---------+---+----------+\n",
      "|     Name|Age|Experience|\n",
      "+---------+---+----------+\n",
      "|Abhishek | 34|        10|\n",
      "|   Nitesh| 30|         7|\n",
      "| Sangeeta| 33|         8|\n",
      "|  Anamika| 36|        13|\n",
      "+---------+---+----------+\n",
      "\n"
     ]
    }
   ],
   "source": [
    "df_spark.show()"
   ]
  },
  {
   "cell_type": "code",
   "execution_count": 6,
   "metadata": {},
   "outputs": [
    {
     "name": "stdout",
     "output_type": "stream",
     "text": [
      "+---+----------+\n",
      "|Age|Experience|\n",
      "+---+----------+\n",
      "| 34|        10|\n",
      "| 30|         7|\n",
      "| 33|         8|\n",
      "| 36|        13|\n",
      "+---+----------+\n",
      "\n"
     ]
    }
   ],
   "source": [
    "df_spark.select(['Age','Experience']).show()"
   ]
  },
  {
   "cell_type": "code",
   "execution_count": 7,
   "metadata": {},
   "outputs": [
    {
     "data": {
      "text/plain": [
       "[Row(Name='Abhishek ', Age=34, Experience=10),\n",
       " Row(Name='Nitesh', Age=30, Experience=7)]"
      ]
     },
     "execution_count": 7,
     "metadata": {},
     "output_type": "execute_result"
    }
   ],
   "source": [
    "df_spark.head(2)"
   ]
  },
  {
   "cell_type": "code",
   "execution_count": 8,
   "metadata": {},
   "outputs": [
    {
     "data": {
      "text/plain": [
       "[('Name', 'string'), ('Age', 'int'), ('Experience', 'int')]"
      ]
     },
     "execution_count": 8,
     "metadata": {},
     "output_type": "execute_result"
    }
   ],
   "source": [
    "df_spark.dtypes"
   ]
  },
  {
   "cell_type": "code",
   "execution_count": 9,
   "metadata": {},
   "outputs": [],
   "source": [
    "df_spark=df_spark.withColumn(\"Salary\",df_spark['Age']*df_spark['Experience'])"
   ]
  },
  {
   "cell_type": "code",
   "execution_count": 10,
   "metadata": {},
   "outputs": [
    {
     "name": "stdout",
     "output_type": "stream",
     "text": [
      "+---------+---+----------+------+\n",
      "|     Name|Age|Experience|Salary|\n",
      "+---------+---+----------+------+\n",
      "|Abhishek | 34|        10|   340|\n",
      "|   Nitesh| 30|         7|   210|\n",
      "| Sangeeta| 33|         8|   264|\n",
      "|  Anamika| 36|        13|   468|\n",
      "+---------+---+----------+------+\n",
      "\n"
     ]
    }
   ],
   "source": [
    "df_spark.show()"
   ]
  },
  {
   "cell_type": "code",
   "execution_count": 11,
   "metadata": {},
   "outputs": [
    {
     "name": "stdout",
     "output_type": "stream",
     "text": [
      "+---------+---+----------+------+\n",
      "|     Name|Age|Experience|Income|\n",
      "+---------+---+----------+------+\n",
      "|Abhishek | 34|        10|   340|\n",
      "|   Nitesh| 30|         7|   210|\n",
      "| Sangeeta| 33|         8|   264|\n",
      "|  Anamika| 36|        13|   468|\n",
      "+---------+---+----------+------+\n",
      "\n"
     ]
    }
   ],
   "source": [
    "df_spark.withColumnRenamed(\"Salary\",\"Income\").show()"
   ]
  },
  {
   "cell_type": "code",
   "execution_count": 12,
   "metadata": {},
   "outputs": [
    {
     "name": "stdout",
     "output_type": "stream",
     "text": [
      "root\n",
      " |-- Name: string (nullable = true)\n",
      " |-- Age: integer (nullable = true)\n",
      " |-- Experience: integer (nullable = true)\n",
      " |-- Salary: integer (nullable = true)\n",
      "\n"
     ]
    }
   ],
   "source": [
    "df_spark.printSchema()"
   ]
  },
  {
   "cell_type": "code",
   "execution_count": 13,
   "metadata": {},
   "outputs": [],
   "source": [
    "df_spark=df_spark.withColumn(\"new name\",df_spark['Name'])"
   ]
  },
  {
   "cell_type": "code",
   "execution_count": 14,
   "metadata": {},
   "outputs": [
    {
     "name": "stdout",
     "output_type": "stream",
     "text": [
      "+---------+---+----------+------+---------+\n",
      "|     Name|Age|Experience|Salary| new name|\n",
      "+---------+---+----------+------+---------+\n",
      "|Abhishek | 34|        10|   340|Abhishek |\n",
      "|   Nitesh| 30|         7|   210|   Nitesh|\n",
      "| Sangeeta| 33|         8|   264| Sangeeta|\n",
      "|  Anamika| 36|        13|   468|  Anamika|\n",
      "+---------+---+----------+------+---------+\n",
      "\n"
     ]
    }
   ],
   "source": [
    "df_spark.show()"
   ]
  },
  {
   "cell_type": "code",
   "execution_count": 15,
   "metadata": {},
   "outputs": [
    {
     "name": "stdout",
     "output_type": "stream",
     "text": [
      "+---------+---+----------+------+\n",
      "|     Name|Age|Experience|Salary|\n",
      "+---------+---+----------+------+\n",
      "|Abhishek | 34|        10|   340|\n",
      "|   Nitesh| 30|         7|   210|\n",
      "| Sangeeta| 33|         8|   264|\n",
      "|  Anamika| 36|        13|   468|\n",
      "+---------+---+----------+------+\n",
      "\n"
     ]
    }
   ],
   "source": [
    "df_spark.drop('new name').show()"
   ]
  },
  {
   "cell_type": "code",
   "execution_count": 16,
   "metadata": {},
   "outputs": [
    {
     "name": "stdout",
     "output_type": "stream",
     "text": [
      "+---------+---+----------+------+---------+\n",
      "|     Name|Age|Experience|Salary| new name|\n",
      "+---------+---+----------+------+---------+\n",
      "|Abhishek | 34|        10|   340|Abhishek |\n",
      "|   Nitesh| 30|         7|   210|   Nitesh|\n",
      "| Sangeeta| 33|         8|   264| Sangeeta|\n",
      "|  Anamika| 36|        13|   468|  Anamika|\n",
      "+---------+---+----------+------+---------+\n",
      "\n"
     ]
    }
   ],
   "source": [
    "df_spark.show()"
   ]
  },
  {
   "cell_type": "code",
   "execution_count": 17,
   "metadata": {},
   "outputs": [],
   "source": [
    "from pyspark.sql.functions import lit"
   ]
  },
  {
   "cell_type": "code",
   "execution_count": 18,
   "metadata": {},
   "outputs": [],
   "source": [
    "df_spark=df_spark.withColumn(\"Rating\",lit(5))"
   ]
  },
  {
   "cell_type": "code",
   "execution_count": 19,
   "metadata": {},
   "outputs": [
    {
     "name": "stdout",
     "output_type": "stream",
     "text": [
      "+---------+---+----------+------+---------+------+\n",
      "|     Name|Age|Experience|Salary| new name|Rating|\n",
      "+---------+---+----------+------+---------+------+\n",
      "|Abhishek | 34|        10|   340|Abhishek |     5|\n",
      "|   Nitesh| 30|         7|   210|   Nitesh|     5|\n",
      "| Sangeeta| 33|         8|   264| Sangeeta|     5|\n",
      "|  Anamika| 36|        13|   468|  Anamika|     5|\n",
      "+---------+---+----------+------+---------+------+\n",
      "\n"
     ]
    }
   ],
   "source": [
    "df_spark.show()"
   ]
  },
  {
   "cell_type": "code",
   "execution_count": 20,
   "metadata": {},
   "outputs": [
    {
     "name": "stdout",
     "output_type": "stream",
     "text": [
      "+---------+---+----------+------+---------+------+\n",
      "|     Name|Age|Experience|Salary| new name|Rating|\n",
      "+---------+---+----------+------+---------+------+\n",
      "|Abhishek | 34|        10|   340|Abhishek |     5|\n",
      "|  Anamika| 36|        13|   468|  Anamika|     5|\n",
      "+---------+---+----------+------+---------+------+\n",
      "\n"
     ]
    }
   ],
   "source": [
    "df_spark.filter(df_spark['Experience']>8).show()"
   ]
  },
  {
   "cell_type": "code",
   "execution_count": 22,
   "metadata": {},
   "outputs": [
    {
     "name": "stdout",
     "output_type": "stream",
     "text": [
      "+---------+---+----------+------+---------+------+\n",
      "|     Name|Age|Experience|Salary| new name|Rating|\n",
      "+---------+---+----------+------+---------+------+\n",
      "|Abhishek | 34|        10|   340|Abhishek |     5|\n",
      "+---------+---+----------+------+---------+------+\n",
      "\n"
     ]
    }
   ],
   "source": [
    "df_spark.filter((df_spark['Experience']>8) & (df_spark['Salary']<400)).show()"
   ]
  },
  {
   "cell_type": "code",
   "execution_count": 23,
   "metadata": {},
   "outputs": [
    {
     "name": "stdout",
     "output_type": "stream",
     "text": [
      "+---------+---+\n",
      "|     Name|Age|\n",
      "+---------+---+\n",
      "|Abhishek | 34|\n",
      "+---------+---+\n",
      "\n"
     ]
    }
   ],
   "source": [
    "df_spark.select(['Name','Age']).filter((df_spark['Experience']>8) & (df_spark['Salary']<400)).show()"
   ]
  },
  {
   "cell_type": "code",
   "execution_count": 30,
   "metadata": {},
   "outputs": [],
   "source": [
    "new_row={'Name':'Abhishek','Age':34,'Experience':12,'Salary':650,'new name':'Babu','Rating':5}"
   ]
  },
  {
   "cell_type": "code",
   "execution_count": 31,
   "metadata": {},
   "outputs": [],
   "source": [
    "new_spark=spark.createDataFrame([new_row])"
   ]
  },
  {
   "cell_type": "code",
   "execution_count": 32,
   "metadata": {},
   "outputs": [
    {
     "name": "stdout",
     "output_type": "stream",
     "text": [
      "+---+----------+--------+------+------+--------+\n",
      "|Age|Experience|    Name|Rating|Salary|new name|\n",
      "+---+----------+--------+------+------+--------+\n",
      "| 34|        12|Abhishek|     5|   650|    Babu|\n",
      "+---+----------+--------+------+------+--------+\n",
      "\n"
     ]
    }
   ],
   "source": [
    "new_spark.show()"
   ]
  },
  {
   "cell_type": "code",
   "execution_count": 33,
   "metadata": {},
   "outputs": [
    {
     "name": "stdout",
     "output_type": "stream",
     "text": [
      "+---------+---+----------+------+---------+------+\n",
      "|     Name|Age|Experience|Salary| new name|Rating|\n",
      "+---------+---+----------+------+---------+------+\n",
      "|Abhishek | 34|        10|   340|Abhishek |     5|\n",
      "|   Nitesh| 30|         7|   210|   Nitesh|     5|\n",
      "| Sangeeta| 33|         8|   264| Sangeeta|     5|\n",
      "|  Anamika| 36|        13|   468|  Anamika|     5|\n",
      "|       34| 12|  Abhishek|     5|      650|  Babu|\n",
      "+---------+---+----------+------+---------+------+\n",
      "\n"
     ]
    }
   ],
   "source": [
    "df_spark.union(new_spark).show()"
   ]
  },
  {
   "cell_type": "code",
   "execution_count": 35,
   "metadata": {},
   "outputs": [
    {
     "name": "stdout",
     "output_type": "stream",
     "text": [
      "+------+--------+---------------+-----------+-----------+\n",
      "|Rating|max(Age)|max(Experience)|max(Salary)|max(Rating)|\n",
      "+------+--------+---------------+-----------+-----------+\n",
      "|     5|      36|             13|        468|          5|\n",
      "+------+--------+---------------+-----------+-----------+\n",
      "\n"
     ]
    }
   ],
   "source": [
    "df_spark.groupBy('Rating').max().show()"
   ]
  },
  {
   "cell_type": "code",
   "execution_count": null,
   "metadata": {},
   "outputs": [],
   "source": []
  }
 ],
 "metadata": {
  "kernelspec": {
   "display_name": "Python 3.8.10 64-bit",
   "language": "python",
   "name": "python3"
  },
  "language_info": {
   "codemirror_mode": {
    "name": "ipython",
    "version": 3
   },
   "file_extension": ".py",
   "mimetype": "text/x-python",
   "name": "python",
   "nbconvert_exporter": "python",
   "pygments_lexer": "ipython3",
   "version": "3.8.10"
  },
  "orig_nbformat": 4,
  "vscode": {
   "interpreter": {
    "hash": "e7370f93d1d0cde622a1f8e1c04877d8463912d04d973331ad4851f04de6915a"
   }
  }
 },
 "nbformat": 4,
 "nbformat_minor": 2
}

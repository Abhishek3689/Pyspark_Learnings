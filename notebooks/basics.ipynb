{
 "cells": [
  {
   "cell_type": "code",
   "execution_count": 1,
   "metadata": {},
   "outputs": [],
   "source": [
    "import pyspark"
   ]
  },
  {
   "cell_type": "code",
   "execution_count": 2,
   "metadata": {},
   "outputs": [],
   "source": [
    "from pyspark.sql import SparkSession"
   ]
  },
  {
   "cell_type": "code",
   "execution_count": 3,
   "metadata": {},
   "outputs": [
    {
     "name": "stderr",
     "output_type": "stream",
     "text": [
      "Setting default log level to \"WARN\".\n",
      "To adjust logging level use sc.setLogLevel(newLevel). For SparkR, use setLogLevel(newLevel).\n",
      "23/10/15 11:44:01 WARN NativeCodeLoader: Unable to load native-hadoop library for your platform... using builtin-java classes where applicable\n"
     ]
    }
   ],
   "source": [
    "spark=SparkSession.builder.appName('Practice').getOrCreate()"
   ]
  },
  {
   "cell_type": "code",
   "execution_count": 9,
   "metadata": {},
   "outputs": [],
   "source": [
    "df_spark=spark.read.csv(\"../data/Student_marks.csv\",header=True,inferSchema=True)"
   ]
  },
  {
   "cell_type": "code",
   "execution_count": 10,
   "metadata": {},
   "outputs": [
    {
     "name": "stdout",
     "output_type": "stream",
     "text": [
      "+------+------+----+-------+-------+\n",
      "|  Name|   Sex|Math|Science|English|\n",
      "+------+------+----+-------+-------+\n",
      "| Sunny|Female|  87|     91|     81|\n",
      "| Bobby|  Male|  67|     56|     71|\n",
      "|  Tina|Female|null|     54|     90|\n",
      "| Reeta|  null|  71|   null|   null|\n",
      "|Sachin|  Male|null|     67|     51|\n",
      "| Honey|Female|  80|     76|   null|\n",
      "+------+------+----+-------+-------+\n",
      "\n"
     ]
    }
   ],
   "source": [
    "df_spark.show()"
   ]
  },
  {
   "cell_type": "code",
   "execution_count": 34,
   "metadata": {},
   "outputs": [
    {
     "name": "stdout",
     "output_type": "stream",
     "text": [
      "+----+-------+\n",
      "|Math|Science|\n",
      "+----+-------+\n",
      "|  87|     91|\n",
      "|  71|   null|\n",
      "|  80|     76|\n",
      "+----+-------+\n",
      "\n"
     ]
    }
   ],
   "source": [
    "df_spark.filter((df_spark['Math']>70)  & (df_spark['Math']<95)).select(['Math','Science']).show()"
   ]
  },
  {
   "cell_type": "code",
   "execution_count": 35,
   "metadata": {},
   "outputs": [
    {
     "name": "stdout",
     "output_type": "stream",
     "text": [
      "+------+------+----+-------+-------+\n",
      "|  Name|   Sex|Math|Science|English|\n",
      "+------+------+----+-------+-------+\n",
      "| Sunny|Female|  87|     91|     81|\n",
      "| Bobby|  Male|  67|     56|     71|\n",
      "|  Tina|Female|null|     54|     90|\n",
      "| Reeta|  null|  71|   null|   null|\n",
      "|Sachin|  Male|null|     67|     51|\n",
      "| Honey|Female|  80|     76|   null|\n",
      "+------+------+----+-------+-------+\n",
      "\n"
     ]
    }
   ],
   "source": [
    "df_spark.show()"
   ]
  },
  {
   "cell_type": "code",
   "execution_count": 36,
   "metadata": {},
   "outputs": [
    {
     "name": "stdout",
     "output_type": "stream",
     "text": [
      "root\n",
      " |-- Name: string (nullable = true)\n",
      " |-- Sex: string (nullable = true)\n",
      " |-- Math: integer (nullable = true)\n",
      " |-- Science: integer (nullable = true)\n",
      " |-- English: integer (nullable = true)\n",
      "\n"
     ]
    }
   ],
   "source": [
    "df_spark.printSchema()"
   ]
  },
  {
   "cell_type": "code",
   "execution_count": 42,
   "metadata": {},
   "outputs": [
    {
     "name": "stdout",
     "output_type": "stream",
     "text": [
      "+-------+-----+------+----------------+------------------+------------------+\n",
      "|summary| Name|   Sex|            Math|           Science|           English|\n",
      "+-------+-----+------+----------------+------------------+------------------+\n",
      "|  count|    6|     5|               4|                 5|                 4|\n",
      "|   mean| null|  null|           76.25|              68.8|             73.25|\n",
      "| stddev| null|  null|8.99536917900909|15.254507530562892|16.740669042783207|\n",
      "|    min|Bobby|Female|              67|                54|                51|\n",
      "|    max| Tina|  Male|              87|                91|                90|\n",
      "+-------+-----+------+----------------+------------------+------------------+\n",
      "\n"
     ]
    }
   ],
   "source": [
    "df_spark.describe().show()"
   ]
  },
  {
   "cell_type": "code",
   "execution_count": 43,
   "metadata": {},
   "outputs": [
    {
     "name": "stdout",
     "output_type": "stream",
     "text": [
      "+------+------+----+-------+-------+--------+\n",
      "|  Name|   Sex|Math|Science|English|new_math|\n",
      "+------+------+----+-------+-------+--------+\n",
      "| Sunny|Female|  87|     91|     81|      92|\n",
      "| Bobby|  Male|  67|     56|     71|      72|\n",
      "|  Tina|Female|null|     54|     90|    null|\n",
      "| Reeta|  null|  71|   null|   null|      76|\n",
      "|Sachin|  Male|null|     67|     51|    null|\n",
      "| Honey|Female|  80|     76|   null|      85|\n",
      "+------+------+----+-------+-------+--------+\n",
      "\n"
     ]
    }
   ],
   "source": [
    "df_spark.withColumn('new_math',df_spark['Math']+5).show()"
   ]
  },
  {
   "cell_type": "code",
   "execution_count": 52,
   "metadata": {},
   "outputs": [],
   "source": [
    "df=spark.createDataFrame([(1,'India','Delhi',20000000), \\\n",
    "    (2,'Nepal','Kathmandu',None), \\\n",
    "        (3,'Srilanka','Colombo',None), \\\n",
    "            (4,'Bangladesh',None,10000000)],['id','Country','Capital','Population'])"
   ]
  },
  {
   "cell_type": "code",
   "execution_count": 53,
   "metadata": {},
   "outputs": [
    {
     "name": "stdout",
     "output_type": "stream",
     "text": [
      "+---+----------+---------+----------+\n",
      "| id|   Country|  Capital|Population|\n",
      "+---+----------+---------+----------+\n",
      "|  1|     India|    Delhi|  20000000|\n",
      "|  2|     Nepal|Kathmandu|      null|\n",
      "|  3|  Srilanka|  Colombo|      null|\n",
      "|  4|Bangladesh|     null|  10000000|\n",
      "+---+----------+---------+----------+\n",
      "\n"
     ]
    }
   ],
   "source": [
    "df.show()"
   ]
  },
  {
   "cell_type": "code",
   "execution_count": 54,
   "metadata": {},
   "outputs": [
    {
     "name": "stdout",
     "output_type": "stream",
     "text": [
      "+---+----------+---------+----------+\n",
      "| id|   Country|  Capital|Population|\n",
      "+---+----------+---------+----------+\n",
      "|  1|     India|    Delhi|  20000000|\n",
      "|  2|     Nepal|Kathmandu|      3000|\n",
      "|  3|  Srilanka|  Colombo|      3000|\n",
      "|  4|Bangladesh|    Dhaka|  10000000|\n",
      "+---+----------+---------+----------+\n",
      "\n"
     ]
    }
   ],
   "source": [
    "df.fillna({'Capital':'Dhaka','Population':3000}).show()"
   ]
  },
  {
   "cell_type": "code",
   "execution_count": 55,
   "metadata": {},
   "outputs": [],
   "source": [
    "from pyspark.ml.feature import Imputer"
   ]
  },
  {
   "cell_type": "code",
   "execution_count": 64,
   "metadata": {},
   "outputs": [],
   "source": [
    "imputer=Imputer(inputCol=('Population'),outputCol=('population_imputed')).setStrategy('median')"
   ]
  },
  {
   "cell_type": "code",
   "execution_count": 69,
   "metadata": {},
   "outputs": [],
   "source": [
    "df_new=imputer.fit(df).transform(df)"
   ]
  },
  {
   "cell_type": "code",
   "execution_count": 70,
   "metadata": {},
   "outputs": [
    {
     "name": "stdout",
     "output_type": "stream",
     "text": [
      "+---+----------+---------+----------+------------------+\n",
      "| id|   Country|  Capital|Population|population_imputed|\n",
      "+---+----------+---------+----------+------------------+\n",
      "|  1|     India|    Delhi|  20000000|          20000000|\n",
      "|  2|     Nepal|Kathmandu|      null|          10000000|\n",
      "|  3|  Srilanka|  Colombo|      null|          10000000|\n",
      "|  4|Bangladesh|     null|  10000000|          10000000|\n",
      "+---+----------+---------+----------+------------------+\n",
      "\n"
     ]
    }
   ],
   "source": [
    "df_new.show()"
   ]
  },
  {
   "cell_type": "code",
   "execution_count": 71,
   "metadata": {},
   "outputs": [
    {
     "name": "stdout",
     "output_type": "stream",
     "text": [
      "+---+----------+---------+----------+\n",
      "| id|   Country|  Capital|Population|\n",
      "+---+----------+---------+----------+\n",
      "|  1|     India|    Delhi|  20000000|\n",
      "|  2|     Nepal|Kathmandu|      null|\n",
      "|  3|  Srilanka|  Colombo|      null|\n",
      "|  4|Bangladesh|     null|  10000000|\n",
      "+---+----------+---------+----------+\n",
      "\n"
     ]
    }
   ],
   "source": [
    "df_new.drop('population_imputed').show()"
   ]
  },
  {
   "cell_type": "code",
   "execution_count": 75,
   "metadata": {},
   "outputs": [
    {
     "name": "stdout",
     "output_type": "stream",
     "text": [
      "+---+----------+---------+----------+------------------+\n",
      "| id|   Country|  Capital|Population|population_imputed|\n",
      "+---+----------+---------+----------+------------------+\n",
      "|  1|     India|    Delhi|  20000000|          20000000|\n",
      "|  2|     Nepal|Kathmandu|      null|          10000000|\n",
      "|  3|  Srilanka|  Colombo|      null|          10000000|\n",
      "|  4|Bangladesh|     null|  10000000|          10000000|\n",
      "+---+----------+---------+----------+------------------+\n",
      "\n"
     ]
    }
   ],
   "source": [
    "df_new.na.drop(how='all',thresh=3).show()"
   ]
  },
  {
   "cell_type": "code",
   "execution_count": 81,
   "metadata": {},
   "outputs": [
    {
     "name": "stdout",
     "output_type": "stream",
     "text": [
      "+----------+-------+---------------+-----------------------+\n",
      "|   Country|max(id)|max(Population)|max(population_imputed)|\n",
      "+----------+-------+---------------+-----------------------+\n",
      "|     India|      1|       20000000|               20000000|\n",
      "|     Nepal|      2|           null|               10000000|\n",
      "|  Srilanka|      3|           null|               10000000|\n",
      "|Bangladesh|      4|       10000000|               10000000|\n",
      "+----------+-------+---------------+-----------------------+\n",
      "\n"
     ]
    }
   ],
   "source": [
    "df_new.groupBy('Country').max().show()"
   ]
  },
  {
   "cell_type": "code",
   "execution_count": null,
   "metadata": {},
   "outputs": [],
   "source": []
  }
 ],
 "metadata": {
  "kernelspec": {
   "display_name": "Python 3.8.10 64-bit",
   "language": "python",
   "name": "python3"
  },
  "language_info": {
   "codemirror_mode": {
    "name": "ipython",
    "version": 3
   },
   "file_extension": ".py",
   "mimetype": "text/x-python",
   "name": "python",
   "nbconvert_exporter": "python",
   "pygments_lexer": "ipython3",
   "version": "3.8.10"
  },
  "orig_nbformat": 4,
  "vscode": {
   "interpreter": {
    "hash": "e7370f93d1d0cde622a1f8e1c04877d8463912d04d973331ad4851f04de6915a"
   }
  }
 },
 "nbformat": 4,
 "nbformat_minor": 2
}
